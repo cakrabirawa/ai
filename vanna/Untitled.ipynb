{
 "cells": [
  {
   "cell_type": "code",
   "execution_count": 1,
   "id": "f54569ed-6514-4f95-9177-5efe47c0f107",
   "metadata": {},
   "outputs": [
    {
     "name": "stdout",
     "output_type": "stream",
     "text": [
      "Note: you may need to restart the kernel to use updated packages.\n"
     ]
    },
    {
     "name": "stderr",
     "output_type": "stream",
     "text": [
      "ERROR: Invalid requirement: \"'vanna[chromadb,openai,mysql]'\": Expected package name at the start of dependency specifier\n",
      "    'vanna[chromadb,openai,mysql]'\n",
      "    ^\n"
     ]
    }
   ],
   "source": [
    "pip install 'vanna[chromadb,openai,mysql]'"
   ]
  },
  {
   "cell_type": "code",
   "execution_count": null,
   "id": "bd306934-b2f6-4ce0-b4b3-cf7d92dddc4c",
   "metadata": {},
   "outputs": [],
   "source": []
  }
 ],
 "metadata": {
  "kernelspec": {
   "display_name": "Python 3 (ipykernel)",
   "language": "python",
   "name": "python3"
  },
  "language_info": {
   "codemirror_mode": {
    "name": "ipython",
    "version": 3
   },
   "file_extension": ".py",
   "mimetype": "text/x-python",
   "name": "python",
   "nbconvert_exporter": "python",
   "pygments_lexer": "ipython3",
   "version": "3.12.3"
  }
 },
 "nbformat": 4,
 "nbformat_minor": 5
}
